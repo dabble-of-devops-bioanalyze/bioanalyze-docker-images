{
 "cells": [
  {
   "cell_type": "markdown",
   "metadata": {},
   "source": [
    "# Launch CellXGene\n",
    "\n",
    "Run cellxgene from a Jupyter cell:\n",
    "\n",
    "```\n",
    "! cellxgene launch --host 0.0.0.0 https://cellxgene-example-data.czi.technology/pbmc3k.h5ad\n",
    "```\n",
    "\n",
    "Or directly from the terminal:\n",
    "\n",
    "```\n",
    "cellxgene launch --host 0.0.0.0 https://cellxgene-example-data.czi.technology/pbmc3k.h5ad\n",
    "```\n",
    "\n",
    "Eitehr way you should see similar output:\n",
    "\n",
    "```\n",
    "[cellxgene] Starting the CLI...\n",
    "[cellxgene] Loading data from pbmc3k.h5ad.\n",
    "[cellxgene] Warning: Moving element from .uns['neighbors']['distances'] to .obsp['distances'].\n",
    "\n",
    "This is where adjacency matrices should go now. \n",
    "[cellxgene] Warning: Moving element from .uns['neighbors']['connectivities'] to .obsp['connectivities'].\n",
    "\n",
    "This is where adjacency matrices should go now. \n",
    "WARNING:root:Type float64 will be converted to 32 bit float and may lose precision.\n",
    "WARNING:root:Type float64 will be converted to 32 bit float and may lose precision.\n",
    "WARNING:root:Type float64 will be converted to 32 bit float and may lose precision.\n",
    "WARNING:root:Type float64 will be converted to 32 bit float and may lose precision.\n",
    "WARNING:root:Type float64 will be converted to 32 bit float and may lose precision.\n",
    "WARNING:root:Type float64 will be converted to 32 bit float and may lose precision.\n",
    "WARNING:root:Type float64 will be converted to 32 bit float and may lose precision.\n",
    "WARNING:root:Type float64 will be converted to 32 bit float and may lose precision.\n",
    "WARNING:root:Type float64 will be converted to 32 bit float and may lose precision.\n",
    "WARNING:root:Type float64 will be converted to 32 bit float and may lose precision.\n",
    "WARNING:root:Type float64 will be converted to 32 bit float and may lose precision.\n",
    "WARNING:root:Type float64 will be converted to 32 bit float and may lose precision.\n",
    "[cellxgene] Launching! Please go to http://0.0.0.0:5005 in your browser.\n",
    "[cellxgene] Type CTRL-C at any time to exit.\n",
    "```\n",
    "\n",
    "**Don't forget to make the host 0.0.0.0**"
   ]
  },
  {
   "cell_type": "code",
   "execution_count": 1,
   "metadata": {},
   "outputs": [],
   "source": [
    "#! cellxgene launch --host 0.0.0.0 https://cellxgene-example-data.czi.technology/pbmc3k.h5ad"
   ]
  }
 ],
 "metadata": {
  "kernelspec": {
   "display_name": "Conda Env Notebook - Py",
   "language": "python",
   "name": "conda-env-notebook-pye"
  },
  "language_info": {
   "codemirror_mode": {
    "name": "ipython",
    "version": 3
   },
   "file_extension": ".py",
   "mimetype": "text/x-python",
   "name": "python",
   "nbconvert_exporter": "python",
   "pygments_lexer": "ipython3",
   "version": "3.8.6"
  }
 },
 "nbformat": 4,
 "nbformat_minor": 4
}
