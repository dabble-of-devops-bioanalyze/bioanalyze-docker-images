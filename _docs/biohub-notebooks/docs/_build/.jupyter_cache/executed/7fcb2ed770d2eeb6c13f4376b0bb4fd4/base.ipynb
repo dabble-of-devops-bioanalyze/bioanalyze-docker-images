{
 "cells": [
  {
   "cell_type": "code",
   "execution_count": 1,
   "metadata": {},
   "outputs": [],
   "source": [
    "#! cellxgene launch --host 0.0.0.0 https://cellxgene-example-data.czi.technology/pbmc3k.h5ad"
   ]
  }
 ],
 "metadata": {
  "kernelspec": {
   "display_name": "Conda Env Notebook - Py",
   "language": "python",
   "name": "conda-env-notebook-pye"
  },
  "language_info": {
   "codemirror_mode": {
    "name": "ipython",
    "version": 3
   },
   "file_extension": ".py",
   "mimetype": "text/x-python",
   "name": "python",
   "nbconvert_exporter": "python",
   "pygments_lexer": "ipython3",
   "version": "3.8.6"
  }
 },
 "nbformat": 4,
 "nbformat_minor": 4
}