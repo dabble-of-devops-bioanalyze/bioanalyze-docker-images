{
 "cells": [
  {
   "cell_type": "markdown",
   "metadata": {},
   "source": [
    "## Run MLFlow\n",
    "\n",
    "This is just a quick notebook no how to run MLFlow through jupyterhub"
   ]
  },
  {
   "cell_type": "markdown",
   "metadata": {},
   "source": [
    "Run this from a terminal -  \n",
    "\n",
    "```\n",
    "conda install -y jupyter-server-proxy mlflow gunicorn\n",
    "```"
   ]
  },
  {
   "cell_type": "code",
   "execution_count": 1,
   "metadata": {},
   "outputs": [],
   "source": [
    "import shutil\n",
    "import os\n",
    "from random import random, randint\n",
    "from mlflow import log_metric, log_param, log_artifacts"
   ]
  },
  {
   "cell_type": "code",
   "execution_count": 2,
   "metadata": {},
   "outputs": [
    {
     "name": "stderr",
     "output_type": "stream",
     "text": [
      "/srv/conda/envs/notebook/lib/python3.8/site-packages/ipykernel/ipkernel.py:283: DeprecationWarning: `should_run_async` will not call `transform_cell` automatically in the future. Please pass the result to `transformed_cell` argument and any exception that happen during thetransform in `preprocessing_exc_tuple` in IPython 7.17 and above.\n",
      "  and should_run_async(code)\n"
     ]
    },
    {
     "name": "stdout",
     "output_type": "stream",
     "text": [
      "Collecting package metadata (current_repodata.json): done\n",
      "Solving environment: done\n",
      "\n",
      "## Package Plan ##\n",
      "\n",
      "  environment location: /srv/conda/envs/notebook\n",
      "\n",
      "  added / updated specs:\n",
      "    - gunicorn\n",
      "    - jupyter-server-proxy\n",
      "    - mlflow\n",
      "\n",
      "\n",
      "The following packages will be downloaded:\n",
      "\n",
      "    package                    |            build\n",
      "    ---------------------------|-----------------\n",
      "    asn1crypto-1.4.0           |     pyh9f0ad1d_0          78 KB  conda-forge\n",
      "    ca-certificates-2020.12.5  |       ha878542_0         137 KB  conda-forge\n",
      "    configparser-5.0.1         |             py_0          23 KB  conda-forge\n",
      "    databricks-cli-0.9.1       |             py_0          48 KB  conda-forge\n",
      "    docker-py-4.4.1            |   py38h578d9bd_0         189 KB  conda-forge\n",
      "    docker-pycreds-0.4.0       |             py_0          11 KB  conda-forge\n",
      "    flask-1.1.2                |     pyh9f0ad1d_0          70 KB  conda-forge\n",
      "    gitdb-4.0.5                |             py_0          46 KB  conda-forge\n",
      "    gitpython-3.1.11           |             py_0         110 KB  conda-forge\n",
      "    gorilla-0.3.0              |             py_0          11 KB  conda-forge\n",
      "    gunicorn-20.0.4            |   py38h578d9bd_2         118 KB  conda-forge\n",
      "    itsdangerous-1.1.0         |             py_0          16 KB  conda-forge\n",
      "    mlflow-1.2.0               |             py_1         3.4 MB  conda-forge\n",
      "    querystring_parser-1.2.4   |             py_0          10 KB  conda-forge\n",
      "    simplejson-3.17.2          |   py38h497a2fe_1         103 KB  conda-forge\n",
      "    smmap-3.0.4                |     pyh9f0ad1d_0          22 KB  conda-forge\n",
      "    sqlparse-0.4.1             |     pyh9f0ad1d_0          34 KB  conda-forge\n",
      "    tabulate-0.8.7             |     pyh9f0ad1d_0          24 KB  conda-forge\n",
      "    ------------------------------------------------------------\n",
      "                                           Total:         4.5 MB\n",
      "\n",
      "The following NEW packages will be INSTALLED:\n",
      "\n",
      "  asn1crypto         conda-forge/noarch::asn1crypto-1.4.0-pyh9f0ad1d_0\n",
      "  configparser       conda-forge/noarch::configparser-5.0.1-py_0\n",
      "  databricks-cli     conda-forge/noarch::databricks-cli-0.9.1-py_0\n",
      "  docker-py          conda-forge/linux-64::docker-py-4.4.1-py38h578d9bd_0\n",
      "  docker-pycreds     conda-forge/noarch::docker-pycreds-0.4.0-py_0\n",
      "  flask              conda-forge/noarch::flask-1.1.2-pyh9f0ad1d_0\n",
      "  gitdb              conda-forge/noarch::gitdb-4.0.5-py_0\n",
      "  gitpython          conda-forge/noarch::gitpython-3.1.11-py_0\n",
      "  gorilla            conda-forge/noarch::gorilla-0.3.0-py_0\n",
      "  gunicorn           conda-forge/linux-64::gunicorn-20.0.4-py38h578d9bd_2\n",
      "  itsdangerous       conda-forge/noarch::itsdangerous-1.1.0-py_0\n",
      "  mlflow             conda-forge/noarch::mlflow-1.2.0-py_1\n",
      "  querystring_parser conda-forge/noarch::querystring_parser-1.2.4-py_0\n",
      "  simplejson         conda-forge/linux-64::simplejson-3.17.2-py38h497a2fe_1\n",
      "  smmap              conda-forge/noarch::smmap-3.0.4-pyh9f0ad1d_0\n",
      "  sqlparse           conda-forge/noarch::sqlparse-0.4.1-pyh9f0ad1d_0\n",
      "  tabulate           conda-forge/noarch::tabulate-0.8.7-pyh9f0ad1d_0\n",
      "\n",
      "The following packages will be SUPERSEDED by a higher-priority channel:\n",
      "\n",
      "  ca-certificates    pkgs/main::ca-certificates-2020.12.8-~ --> conda-forge::ca-certificates-2020.12.5-ha878542_0\n",
      "\n",
      "\n",
      "\n",
      "Downloading and Extracting Packages\n",
      "asn1crypto-1.4.0     | 78 KB     | ##################################### | 100% \n",
      "sqlparse-0.4.1       | 34 KB     | ##################################### | 100% \n",
      "simplejson-3.17.2    | 103 KB    | ##################################### | 100% \n",
      "gorilla-0.3.0        | 11 KB     | ##################################### | 100% \n",
      "tabulate-0.8.7       | 24 KB     | ##################################### | 100% \n",
      "configparser-5.0.1   | 23 KB     | ##################################### | 100% \n",
      "smmap-3.0.4          | 22 KB     | ##################################### | 100% \n",
      "databricks-cli-0.9.1 | 48 KB     | ##################################### | 100% \n",
      "itsdangerous-1.1.0   | 16 KB     | ##################################### | 100% \n",
      "gunicorn-20.0.4      | 118 KB    | ##################################### | 100% \n",
      "docker-pycreds-0.4.0 | 11 KB     | ##################################### | 100% \n",
      "docker-py-4.4.1      | 189 KB    | ##################################### | 100% \n",
      "flask-1.1.2          | 70 KB     | ##################################### | 100% \n",
      "ca-certificates-2020 | 137 KB    | ##################################### | 100% \n",
      "querystring_parser-1 | 10 KB     | ##################################### | 100% \n",
      "mlflow-1.2.0         | 3.4 MB    | ##################################### | 100% \n",
      "gitdb-4.0.5          | 46 KB     | ##################################### | 100% \n",
      "gitpython-3.1.11     | 110 KB    | ##################################### | 100% \n",
      "Preparing transaction: done\n",
      "Verifying transaction: done\n",
      "Executing transaction: done\n"
     ]
    }
   ],
   "source": [
    "! conda install -y -c conda-forge jupyter-server-proxy mlflow gunicorn"
   ]
  },
  {
   "cell_type": "code",
   "execution_count": 3,
   "metadata": {},
   "outputs": [
    {
     "name": "stdout",
     "output_type": "stream",
     "text": [
      "/srv/conda/envs/notebook/bin/mlflow\n"
     ]
    }
   ],
   "source": [
    "! which mlflow\n",
    "\n",
    "# If you've run conda install -y jupyter-server-proxy mlflow gunicorn\n",
    "# this should be /srv/conda/envs/notebook/bin/mlflow"
   ]
  },
  {
   "cell_type": "code",
   "execution_count": 4,
   "metadata": {},
   "outputs": [],
   "source": [
    "dirs = ['outputs', 'mlruns']\n",
    "\n",
    "for d in dirs:\n",
    "    if os.path.exists(d):\n",
    "        shutil.rmtree(d)"
   ]
  },
  {
   "cell_type": "markdown",
   "metadata": {},
   "source": [
    "This example comes from the ML Flow Tutorial\n",
    "\n",
    "https://www.mlflow.org/docs/latest/tutorials-and-examples/tutorial.html"
   ]
  },
  {
   "cell_type": "code",
   "execution_count": 7,
   "metadata": {},
   "outputs": [],
   "source": [
    "import os\n",
    "from random import random, randint\n",
    "from mlflow import log_metric, log_param, log_artifacts\n",
    "\n",
    "if __name__ == \"__main__\":\n",
    "    # Log a parameter (key-value pair)\n",
    "    log_param(\"param1\", randint(0, 100))\n",
    "\n",
    "    # Log a metric; metrics can be updated throughout the run\n",
    "    log_metric(\"foo\", random())\n",
    "    log_metric(\"foo\", random() + 1)\n",
    "    log_metric(\"foo\", random() + 2)\n",
    "\n",
    "    # Log an artifact (output file)\n",
    "    if not os.path.exists(\"outputs\"):\n",
    "        os.makedirs(\"outputs\")\n",
    "    with open(\"outputs/test.txt\", \"w\") as f:\n",
    "        f.write(\"hello world!\")\n",
    "    log_artifacts(\"outputs\")\n"
   ]
  },
  {
   "cell_type": "markdown",
   "metadata": {},
   "source": [
    "## View Any Server in a Browser\n",
    "\n",
    "Anything running on a port can be accessed in the browser. If you are running this through the jupyterhub interface it will be proxied for you automatically and available at:\n",
    "\n",
    "```\n",
    "http://{{your_url}}/user/{{username}}/proxy/{{port}}/\n",
    "```"
   ]
  },
  {
   "cell_type": "code",
   "execution_count": null,
   "metadata": {},
   "outputs": [
    {
     "name": "stdout",
     "output_type": "stream",
     "text": [
      "[2021-01-01 08:56:05 +0000] [2049] [INFO] Starting gunicorn 20.0.4\n",
      "[2021-01-01 08:56:05 +0000] [2049] [INFO] Listening at: http://127.0.0.1:5000 (2049)\n",
      "[2021-01-01 08:56:05 +0000] [2049] [INFO] Using worker: sync\n",
      "[2021-01-01 08:56:05 +0000] [2051] [INFO] Booting worker with pid: 2051\n"
     ]
    }
   ],
   "source": [
    "! mlflow server -w 1"
   ]
  },
  {
   "cell_type": "markdown",
   "metadata": {},
   "source": [
    "Now check it out at: \n",
    "\n",
    "https://ds.stemawayaws.com/user/admin/proxy/5000/"
   ]
  },
  {
   "cell_type": "markdown",
   "metadata": {},
   "source": [
    "You can also access the server through an iframe."
   ]
  },
  {
   "cell_type": "code",
   "execution_count": null,
   "metadata": {},
   "outputs": [],
   "source": [
    "#from IPython.display import HTML\n",
    "\n",
    "#HTML('<iframe width=\"560\" height=\"315\" src=\"https://YOUR_URL/user/USERNAME/proxy/5000/\" frameborder=\"0\" allowfullscreen></iframe>')"
   ]
  }
 ],
 "metadata": {
  "kernelspec": {
   "display_name": "Python 3",
   "language": "python",
   "name": "python3"
  },
  "language_info": {
   "codemirror_mode": {
    "name": "ipython",
    "version": 3
   },
   "file_extension": ".py",
   "mimetype": "text/x-python",
   "name": "python",
   "nbconvert_exporter": "python",
   "pygments_lexer": "ipython3",
   "version": "3.8.6"
  }
 },
 "nbformat": 4,
 "nbformat_minor": 4
}
