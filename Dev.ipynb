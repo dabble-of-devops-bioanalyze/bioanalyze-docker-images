{
 "cells": [
  {
   "cell_type": "code",
   "execution_count": 1,
   "id": "d54227d8",
   "metadata": {},
   "outputs": [],
   "source": [
    "%load_ext autoreload\n",
    "%autoreload 2"
   ]
  },
  {
   "cell_type": "code",
   "execution_count": 2,
   "id": "72abaadb",
   "metadata": {},
   "outputs": [],
   "source": [
    "import os"
   ]
  },
  {
   "cell_type": "code",
   "execution_count": 3,
   "id": "bdb64e60",
   "metadata": {},
   "outputs": [],
   "source": [
    "import run_cookiecutter"
   ]
  },
  {
   "cell_type": "code",
   "execution_count": 43,
   "id": "298a1dd8",
   "metadata": {},
   "outputs": [
    {
     "name": "stderr",
     "output_type": "stream",
     "text": [
      "[run_cookiecutter.py:242 - generate_base_image_cookiecutter() ] \n"
     ]
    }
   ],
   "source": [
    "config_data = run_cookiecutter.read_config()\n",
    "base_image_products, latest = run_cookiecutter.generate_base_image_cookiecutter(config_data)"
   ]
  },
  {
   "cell_type": "code",
   "execution_count": 42,
   "id": "f5142a7e",
   "metadata": {},
   "outputs": [
    {
     "data": {
      "text/plain": [
       "[BaseImage(conda='4.9.2-0', rstudio='1.4.1106', r='4.0.3'),\n",
       " BaseImage(conda='4.9.2-0', rstudio='1.2.5042', r='4.0.3')]"
      ]
     },
     "execution_count": 42,
     "metadata": {},
     "output_type": "execute_result"
    }
   ],
   "source": [
    "base_image_products"
   ]
  },
  {
   "cell_type": "code",
   "execution_count": null,
   "id": "9dbecb97",
   "metadata": {},
   "outputs": [],
   "source": []
  },
  {
   "cell_type": "code",
   "execution_count": null,
   "id": "78e57a1a",
   "metadata": {},
   "outputs": [],
   "source": []
  }
 ],
 "metadata": {
  "kernelspec": {
   "display_name": "Python [conda env:notebook] *",
   "language": "python",
   "name": "conda-env-notebook-py"
  },
  "language_info": {
   "codemirror_mode": {
    "name": "ipython",
    "version": 3
   },
   "file_extension": ".py",
   "mimetype": "text/x-python",
   "name": "python",
   "nbconvert_exporter": "python",
   "pygments_lexer": "ipython3",
   "version": "3.8.10"
  }
 },
 "nbformat": 4,
 "nbformat_minor": 5
}
